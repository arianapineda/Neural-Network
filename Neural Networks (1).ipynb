{
 "cells": [
  {
   "cell_type": "code",
   "execution_count": null,
   "id": "1307b918",
   "metadata": {},
   "outputs": [],
   "source": [
    "# Ariana Pineda, CAAM 210, Spring 2022, Neural Networks\n",
    "# Neural Networks.ipynb\n",
    "# This script uses neural networks for letter recognition\n",
    "# Last Modified: April 18, 2022"
   ]
  },
  {
   "cell_type": "code",
   "execution_count": 2,
   "id": "3bef1bc4",
   "metadata": {},
   "outputs": [],
   "source": [
    "import numpy as np\n",
    "import matplotlib.pyplot as plt\n"
   ]
  },
  {
   "cell_type": "code",
   "execution_count": 3,
   "id": "011a4d0a",
   "metadata": {},
   "outputs": [],
   "source": [
    "def Sigmoid(x):\n",
    "    #this function returns output of the sigmoid function\n",
    "    #inputs: x—number used to solve sigmoid function\n",
    "    #outputs: s—the result of the sigmoid function\n",
    "    \n",
    "    s=1/(1+np.exp(0.5-x))\n",
    "    return s"
   ]
  },
  {
   "cell_type": "code",
   "execution_count": 4,
   "id": "81b34ed5",
   "metadata": {},
   "outputs": [],
   "source": [
    "def neural(V,W,maxiter,rate,train,target):\n",
    "    #this function returns two weight matrices after successful training at given rate\n",
    "    #inputs: V,W—weight matrices, maxiter—iterations, rate—gradient descent step, train—train data, test—test data\n",
    "    #outputs: V,W—weight matrices\n",
    "    \n",
    "    for iter in range(maxiter):\n",
    "        #pick pattern from training data\n",
    "        N=train.shape\n",
    "        j = np.random.randint(N[0])\n",
    "        #select a certain letter to train on\n",
    "        p=train[j-1,:].T\n",
    "        q=Sigmoid(V@p)\n",
    "        o = Sigmoid(W@q)\n",
    "        tmp = (o-target[j-1,:].T)@o.T@(1-o)\n",
    "        grad_W = tmp@q.T\n",
    "        grad_V=(W.T*q*(1-q))@tmp@p.T\n",
    "        V=V-rate*grad_V\n",
    "        W=W-rate*grad_W\n",
    "    return V,W\n",
    "        \n",
    "        "
   ]
  },
  {
   "cell_type": "code",
   "execution_count": 7,
   "id": "a7e43b55",
   "metadata": {},
   "outputs": [],
   "source": [
    "def Modify(L):\n",
    "    #this function modifies a letter by one bit\n",
    "    #inputs: L—a letter matrix\n",
    "    #outputs: L—the modified letter\n",
    "    \n",
    "    #generate random int from 0 to 25\n",
    "    n = np.random.randint(25)\n",
    "    #run an if-statemnt to modify L at [0,n]\n",
    "    if L[0,n]==1:\n",
    "        L[0,n]=0\n",
    "    if L[0,n]==0:\n",
    "        L[0,n]==1\n",
    "    return L"
   ]
  },
  {
   "cell_type": "code",
   "execution_count": 8,
   "id": "8ae06a7e",
   "metadata": {},
   "outputs": [
    {
     "name": "stdout",
     "output_type": "stream",
     "text": [
      "100.0\n"
     ]
    },
    {
     "data": {
      "image/png": "[encoded data removed]",
      "text/plain": [
       "<Figure size 432x288 with 4 Axes>"
      ]
     },
     "metadata": {
      "needs_background": "light"
     },
     "output_type": "display_data"
    }
   ],
   "source": [
    "def driver():\n",
    "    #Define R,I,C,E\n",
    "    r=np.array([1,1,1,1,1,1,0,0,0,1,1,0,0,0,0,1,0,0,0,0,1,0,0,0,0])\n",
    "    i=np.array([0,0,1,0,0,0,0,0,0,0,0,0,1,0,0,0,0,1,0,0,0,0,1,0,0])\n",
    "    c=np.array([1,1,1,1,1,1,0,0,0,0,1,0,0,0,0,1,0,0,0,0,1,1,1,1,1])\n",
    "    e=np.array([1,1,1,1,1,1,0,0,0,1,1,1,1,1,1,1,0,0,0,0,1,1,1,1,1])\n",
    "    #plot rice\n",
    "    plt.figure(1)\n",
    "    plt.subplot(1,6,1)\n",
    "    plt.imshow(np.reshape(r,(5,5)))\n",
    "    plt.subplot(1,6,2)\n",
    "    plt.imshow(np.reshape(i,(5,5)))\n",
    "    plt.subplot(1,6,3)\n",
    "    plt.imshow(np.reshape(c,(5,5)))\n",
    "    plt.subplot(1,6,4)\n",
    "    plt.imshow(np.reshape(e,(5,5)))\n",
    "  \n",
    "\n",
    "\n",
    "    #create training and target data\n",
    "    TrnD= np.array([[r],[i],[c],[e]])\n",
    "    TrgD=np.array([[[0,0]],[[0,1]], [[1,0]],[[1,1]]])\n",
    "\n",
    "    #generate V and W arrays\n",
    "    np.random.seed(0)\n",
    "    V1=np.random.standard_normal(size=(25,25))\n",
    "    np.random.seed(0)\n",
    "    W1=np.random.standard_normal(size=(2,25))\n",
    "    \n",
    "    #run the neural network\n",
    "    [V,W] =neural(V1,W1,5000,0.1,TrnD,TrgD)\n",
    "    count=0\n",
    "    #run trials withm a modified \"e\"\n",
    "    for n in range(0,100):\n",
    "        E=Modify(np.array([[1,1,1,1,1,1,0,0,0,1,1,1,1,1,1,1,0,0,0,0,1,1,1,1,1]]))\n",
    "        q=Sigmoid(V@E.T)\n",
    "        Val=Sigmoid(W@q)\n",
    "        if np.round(Val[0])==1 and np.round(Val[1])==1:\n",
    "            count = count+1\n",
    "    \n",
    "    correctness = (count/100)*100\n",
    "\n",
    "    print(correctness)\n",
    "    \n",
    "driver()"
   ]
  },
  {
   "cell_type": "code",
   "execution_count": null,
   "id": "b145ba99",
   "metadata": {},
   "outputs": [],
   "source": []
  },
  {
   "cell_type": "code",
   "execution_count": null,
   "id": "56d5511a",
   "metadata": {},
   "outputs": [],
   "source": []
  }
 ],
 "metadata": {
  "kernelspec": {
   "display_name": "Python 3 (ipykernel)",
   "language": "python",
   "name": "python3"
  },
  "language_info": {
   "codemirror_mode": {
    "name": "ipython",
    "version": 3
   },
   "file_extension": ".py",
   "mimetype": "text/x-python",
   "name": "python",
   "nbconvert_exporter": "python",
   "pygments_lexer": "ipython3",
   "version": "3.9.7"
  }
 },
 "nbformat": 4,
 "nbformat_minor": 5
}
